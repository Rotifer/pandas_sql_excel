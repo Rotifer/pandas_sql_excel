{
 "cells": [
  {
   "cell_type": "code",
   "execution_count": 1,
   "id": "2d31033d-04d3-4aef-b57a-7407a1bdc1ee",
   "metadata": {},
   "outputs": [],
   "source": [
    "import pandas as pd\n",
    "import os\n",
    "import sys\n"
   ]
  },
  {
   "cell_type": "code",
   "execution_count": 2,
   "id": "e38480cc-3bab-4c0c-b008-cb21bf11cc31",
   "metadata": {},
   "outputs": [],
   "source": [
    "epl_table = pd.read_csv(os.path.join(os.environ[\"HOME\"], \"SHARED_DATA/prem_league_final_tables.tsv\"), sep=\"\\t\")"
   ]
  },
  {
   "cell_type": "code",
   "execution_count": 3,
   "id": "17de364e-0813-429b-9f27-f90b1337e5b2",
   "metadata": {},
   "outputs": [
    {
     "data": {
      "text/html": [
       "<div>\n",
       "<style scoped>\n",
       "    .dataframe tbody tr th:only-of-type {\n",
       "        vertical-align: middle;\n",
       "    }\n",
       "\n",
       "    .dataframe tbody tr th {\n",
       "        vertical-align: top;\n",
       "    }\n",
       "\n",
       "    .dataframe thead th {\n",
       "        text-align: right;\n",
       "    }\n",
       "</style>\n",
       "<table border=\"1\" class=\"dataframe\">\n",
       "  <thead>\n",
       "    <tr style=\"text-align: right;\">\n",
       "      <th></th>\n",
       "      <th>games_won</th>\n",
       "      <th>games_drawn</th>\n",
       "      <th>games_lost</th>\n",
       "      <th>goals_scored</th>\n",
       "      <th>goals_conceded</th>\n",
       "      <th>goal_difference</th>\n",
       "      <th>points_total</th>\n",
       "    </tr>\n",
       "  </thead>\n",
       "  <tbody>\n",
       "    <tr>\n",
       "      <th>count</th>\n",
       "      <td>606.000000</td>\n",
       "      <td>606.000000</td>\n",
       "      <td>606.000000</td>\n",
       "      <td>606.000000</td>\n",
       "      <td>606.000000</td>\n",
       "      <td>606.000000</td>\n",
       "      <td>606.000000</td>\n",
       "    </tr>\n",
       "    <tr>\n",
       "      <th>mean</th>\n",
       "      <td>14.250825</td>\n",
       "      <td>9.933993</td>\n",
       "      <td>14.250825</td>\n",
       "      <td>51.135314</td>\n",
       "      <td>51.135314</td>\n",
       "      <td>0.000000</td>\n",
       "      <td>52.686469</td>\n",
       "    </tr>\n",
       "    <tr>\n",
       "      <th>std</th>\n",
       "      <td>5.689177</td>\n",
       "      <td>2.972424</td>\n",
       "      <td>5.350504</td>\n",
       "      <td>14.878955</td>\n",
       "      <td>12.776328</td>\n",
       "      <td>24.651756</td>\n",
       "      <td>16.294624</td>\n",
       "    </tr>\n",
       "    <tr>\n",
       "      <th>min</th>\n",
       "      <td>1.000000</td>\n",
       "      <td>2.000000</td>\n",
       "      <td>0.000000</td>\n",
       "      <td>20.000000</td>\n",
       "      <td>15.000000</td>\n",
       "      <td>-69.000000</td>\n",
       "      <td>11.000000</td>\n",
       "    </tr>\n",
       "    <tr>\n",
       "      <th>25%</th>\n",
       "      <td>10.000000</td>\n",
       "      <td>8.000000</td>\n",
       "      <td>10.250000</td>\n",
       "      <td>41.000000</td>\n",
       "      <td>43.000000</td>\n",
       "      <td>-17.000000</td>\n",
       "      <td>41.000000</td>\n",
       "    </tr>\n",
       "    <tr>\n",
       "      <th>50%</th>\n",
       "      <td>13.000000</td>\n",
       "      <td>10.000000</td>\n",
       "      <td>15.000000</td>\n",
       "      <td>48.000000</td>\n",
       "      <td>51.000000</td>\n",
       "      <td>-5.000000</td>\n",
       "      <td>50.000000</td>\n",
       "    </tr>\n",
       "    <tr>\n",
       "      <th>75%</th>\n",
       "      <td>18.000000</td>\n",
       "      <td>12.000000</td>\n",
       "      <td>18.000000</td>\n",
       "      <td>60.000000</td>\n",
       "      <td>59.000000</td>\n",
       "      <td>15.000000</td>\n",
       "      <td>63.000000</td>\n",
       "    </tr>\n",
       "    <tr>\n",
       "      <th>max</th>\n",
       "      <td>32.000000</td>\n",
       "      <td>18.000000</td>\n",
       "      <td>29.000000</td>\n",
       "      <td>106.000000</td>\n",
       "      <td>100.000000</td>\n",
       "      <td>79.000000</td>\n",
       "      <td>100.000000</td>\n",
       "    </tr>\n",
       "  </tbody>\n",
       "</table>\n",
       "</div>"
      ],
      "text/plain": [
       "        games_won  games_drawn  games_lost  goals_scored  goals_conceded  \\\n",
       "count  606.000000   606.000000  606.000000    606.000000      606.000000   \n",
       "mean    14.250825     9.933993   14.250825     51.135314       51.135314   \n",
       "std      5.689177     2.972424    5.350504     14.878955       12.776328   \n",
       "min      1.000000     2.000000    0.000000     20.000000       15.000000   \n",
       "25%     10.000000     8.000000   10.250000     41.000000       43.000000   \n",
       "50%     13.000000    10.000000   15.000000     48.000000       51.000000   \n",
       "75%     18.000000    12.000000   18.000000     60.000000       59.000000   \n",
       "max     32.000000    18.000000   29.000000    106.000000      100.000000   \n",
       "\n",
       "       goal_difference  points_total  \n",
       "count       606.000000    606.000000  \n",
       "mean          0.000000     52.686469  \n",
       "std          24.651756     16.294624  \n",
       "min         -69.000000     11.000000  \n",
       "25%         -17.000000     41.000000  \n",
       "50%          -5.000000     50.000000  \n",
       "75%          15.000000     63.000000  \n",
       "max          79.000000    100.000000  "
      ]
     },
     "execution_count": 3,
     "metadata": {},
     "output_type": "execute_result"
    }
   ],
   "source": [
    "epl_table.describe()"
   ]
  },
  {
   "cell_type": "markdown",
   "id": "fb3d7404-f3be-4c7f-be64-e9cf62123cae",
   "metadata": {},
   "source": [
    "## The \"shape\" of the dataframe\n",
    "\n",
    "How many columns and rows in the dataframe?\n",
    "\n",
    "Try any of these:\n",
    "\n",
    "- epl_table.count()\n",
    "- epl_table.shape[0]\n",
    "- epl_table.size # number of \"cells\"\n",
    "- df[epl_table.columns[0]].count()\n",
    "- len(epl_table.index)\n",
    "- len(epl_table)\n"
   ]
  },
  {
   "cell_type": "code",
   "execution_count": 4,
   "id": "fe7355a3-c016-488d-9461-afe95876aa9e",
   "metadata": {},
   "outputs": [],
   "source": [
    "row_count, column_count = epl_table.shape[0], epl_table.shape[1]"
   ]
  },
  {
   "cell_type": "code",
   "execution_count": 5,
   "id": "23835534-5e98-4f68-9703-52dc3fc9179f",
   "metadata": {},
   "outputs": [
    {
     "name": "stdout",
     "output_type": "stream",
     "text": [
      "606 9\n",
      "5454\n"
     ]
    }
   ],
   "source": [
    "print(row_count, column_count)\n",
    "print(row_count * column_count)"
   ]
  },
  {
   "cell_type": "markdown",
   "id": "56ecbcfe-d667-4ce3-a1bb-cd228daf3506",
   "metadata": {},
   "source": [
    "## The data types and names of the columns\n",
    "\n"
   ]
  },
  {
   "cell_type": "code",
   "execution_count": 6,
   "id": "1cad224c-785a-4f55-b347-b1cb01827eb7",
   "metadata": {},
   "outputs": [
    {
     "name": "stdout",
     "output_type": "stream",
     "text": [
      "season             object\n",
      "club_name          object\n",
      "games_won           int64\n",
      "games_drawn         int64\n",
      "games_lost          int64\n",
      "goals_scored        int64\n",
      "goals_conceded      int64\n",
      "goal_difference     int64\n",
      "points_total        int64\n",
      "dtype: object\n",
      "Index(['season', 'club_name', 'games_won', 'games_drawn', 'games_lost',\n",
      "       'goals_scored', 'goals_conceded', 'goal_difference', 'points_total'],\n",
      "      dtype='object')\n"
     ]
    }
   ],
   "source": [
    "print(epl_table.dtypes)\n",
    "print(epl_table.columns)"
   ]
  },
  {
   "cell_type": "markdown",
   "id": "c9509204-0d7a-49cd-acd0-ab35688cf5ea",
   "metadata": {},
   "source": [
    "## Extract a sub-set of the columns"
   ]
  },
  {
   "cell_type": "code",
   "execution_count": 7,
   "id": "69757726-515e-4640-b56a-d0db22e24a0c",
   "metadata": {},
   "outputs": [
    {
     "data": {
      "text/html": [
       "<div>\n",
       "<style scoped>\n",
       "    .dataframe tbody tr th:only-of-type {\n",
       "        vertical-align: middle;\n",
       "    }\n",
       "\n",
       "    .dataframe tbody tr th {\n",
       "        vertical-align: top;\n",
       "    }\n",
       "\n",
       "    .dataframe thead th {\n",
       "        text-align: right;\n",
       "    }\n",
       "</style>\n",
       "<table border=\"1\" class=\"dataframe\">\n",
       "  <thead>\n",
       "    <tr style=\"text-align: right;\">\n",
       "      <th></th>\n",
       "      <th>season</th>\n",
       "      <th>club_name</th>\n",
       "      <th>points_total</th>\n",
       "    </tr>\n",
       "  </thead>\n",
       "  <tbody>\n",
       "    <tr>\n",
       "      <th>0</th>\n",
       "      <td>1992-1993</td>\n",
       "      <td>Arsenal</td>\n",
       "      <td>56</td>\n",
       "    </tr>\n",
       "    <tr>\n",
       "      <th>1</th>\n",
       "      <td>1992-1993</td>\n",
       "      <td>Aston Villa</td>\n",
       "      <td>74</td>\n",
       "    </tr>\n",
       "    <tr>\n",
       "      <th>2</th>\n",
       "      <td>1992-1993</td>\n",
       "      <td>Blackburn Rovers</td>\n",
       "      <td>71</td>\n",
       "    </tr>\n",
       "    <tr>\n",
       "      <th>3</th>\n",
       "      <td>1992-1993</td>\n",
       "      <td>Chelsea</td>\n",
       "      <td>56</td>\n",
       "    </tr>\n",
       "    <tr>\n",
       "      <th>4</th>\n",
       "      <td>1992-1993</td>\n",
       "      <td>Coventry City</td>\n",
       "      <td>52</td>\n",
       "    </tr>\n",
       "    <tr>\n",
       "      <th>...</th>\n",
       "      <td>...</td>\n",
       "      <td>...</td>\n",
       "      <td>...</td>\n",
       "    </tr>\n",
       "    <tr>\n",
       "      <th>601</th>\n",
       "      <td>2021-2022</td>\n",
       "      <td>Everton</td>\n",
       "      <td>39</td>\n",
       "    </tr>\n",
       "    <tr>\n",
       "      <th>602</th>\n",
       "      <td>2021-2022</td>\n",
       "      <td>Leeds United</td>\n",
       "      <td>38</td>\n",
       "    </tr>\n",
       "    <tr>\n",
       "      <th>603</th>\n",
       "      <td>2021-2022</td>\n",
       "      <td>Burnley</td>\n",
       "      <td>35</td>\n",
       "    </tr>\n",
       "    <tr>\n",
       "      <th>604</th>\n",
       "      <td>2021-2022</td>\n",
       "      <td>Watford</td>\n",
       "      <td>23</td>\n",
       "    </tr>\n",
       "    <tr>\n",
       "      <th>605</th>\n",
       "      <td>2021-2022</td>\n",
       "      <td>Norwich City</td>\n",
       "      <td>22</td>\n",
       "    </tr>\n",
       "  </tbody>\n",
       "</table>\n",
       "<p>606 rows × 3 columns</p>\n",
       "</div>"
      ],
      "text/plain": [
       "        season         club_name  points_total\n",
       "0    1992-1993           Arsenal            56\n",
       "1    1992-1993       Aston Villa            74\n",
       "2    1992-1993  Blackburn Rovers            71\n",
       "3    1992-1993           Chelsea            56\n",
       "4    1992-1993     Coventry City            52\n",
       "..         ...               ...           ...\n",
       "601  2021-2022           Everton            39\n",
       "602  2021-2022      Leeds United            38\n",
       "603  2021-2022           Burnley            35\n",
       "604  2021-2022           Watford            23\n",
       "605  2021-2022      Norwich City            22\n",
       "\n",
       "[606 rows x 3 columns]"
      ]
     },
     "execution_count": 7,
     "metadata": {},
     "output_type": "execute_result"
    }
   ],
   "source": [
    "subset = [\"season\", \"club_name\", \"points_total\"]\n",
    "epl_table[subset]"
   ]
  },
  {
   "cell_type": "markdown",
   "id": "896dfb6b-5628-4931-bab3-9c55caf48aa3",
   "metadata": {},
   "source": [
    "## Extract a sub-set of rows\n",
    "\n",
    "Then slim it down by removing some columns\n"
   ]
  },
  {
   "cell_type": "code",
   "execution_count": 8,
   "id": "a1d314c0-ac84-4050-9a12-ef33768910cb",
   "metadata": {},
   "outputs": [],
   "source": [
    "# All rows where the season is \"2003-2004\" and assign it to var df_0304\n",
    "df_0304 = epl_table[epl_table[\"season\"] == \"2003-2004\"]"
   ]
  },
  {
   "cell_type": "code",
   "execution_count": 9,
   "id": "a1dffa37-a256-433d-8202-74fdfde2560a",
   "metadata": {},
   "outputs": [],
   "source": [
    "# Drop the columns \"season\", \"goals_scored\", \"goals_conceded\", \"goal_difference\" and assign it to df_0304_slim\n",
    "# can use either columns= or axis=1\n",
    "df_0304_slim = df_0304.drop(columns=[\"season\", \"goals_scored\", \"goals_conceded\", \"goal_difference\"])"
   ]
  },
  {
   "cell_type": "code",
   "execution_count": 10,
   "id": "51edc6bb-66c4-4f83-9b04-9bde9ff060b2",
   "metadata": {},
   "outputs": [
    {
     "data": {
      "text/html": [
       "<div>\n",
       "<style scoped>\n",
       "    .dataframe tbody tr th:only-of-type {\n",
       "        vertical-align: middle;\n",
       "    }\n",
       "\n",
       "    .dataframe tbody tr th {\n",
       "        vertical-align: top;\n",
       "    }\n",
       "\n",
       "    .dataframe thead th {\n",
       "        text-align: right;\n",
       "    }\n",
       "</style>\n",
       "<table border=\"1\" class=\"dataframe\">\n",
       "  <thead>\n",
       "    <tr style=\"text-align: right;\">\n",
       "      <th></th>\n",
       "      <th>club_name</th>\n",
       "      <th>games_won</th>\n",
       "      <th>games_drawn</th>\n",
       "      <th>games_lost</th>\n",
       "      <th>points_total</th>\n",
       "    </tr>\n",
       "  </thead>\n",
       "  <tbody>\n",
       "    <tr>\n",
       "      <th>226</th>\n",
       "      <td>Arsenal</td>\n",
       "      <td>26</td>\n",
       "      <td>12</td>\n",
       "      <td>0</td>\n",
       "      <td>90</td>\n",
       "    </tr>\n",
       "    <tr>\n",
       "      <th>227</th>\n",
       "      <td>Aston Villa</td>\n",
       "      <td>15</td>\n",
       "      <td>11</td>\n",
       "      <td>12</td>\n",
       "      <td>56</td>\n",
       "    </tr>\n",
       "    <tr>\n",
       "      <th>228</th>\n",
       "      <td>Birmingham City</td>\n",
       "      <td>12</td>\n",
       "      <td>14</td>\n",
       "      <td>12</td>\n",
       "      <td>50</td>\n",
       "    </tr>\n",
       "    <tr>\n",
       "      <th>229</th>\n",
       "      <td>Blackburn Rovers</td>\n",
       "      <td>12</td>\n",
       "      <td>8</td>\n",
       "      <td>18</td>\n",
       "      <td>44</td>\n",
       "    </tr>\n",
       "    <tr>\n",
       "      <th>230</th>\n",
       "      <td>Bolton Wanderers</td>\n",
       "      <td>14</td>\n",
       "      <td>11</td>\n",
       "      <td>13</td>\n",
       "      <td>53</td>\n",
       "    </tr>\n",
       "    <tr>\n",
       "      <th>231</th>\n",
       "      <td>Charlton Athletic</td>\n",
       "      <td>14</td>\n",
       "      <td>11</td>\n",
       "      <td>13</td>\n",
       "      <td>53</td>\n",
       "    </tr>\n",
       "    <tr>\n",
       "      <th>232</th>\n",
       "      <td>Chelsea</td>\n",
       "      <td>24</td>\n",
       "      <td>7</td>\n",
       "      <td>7</td>\n",
       "      <td>79</td>\n",
       "    </tr>\n",
       "    <tr>\n",
       "      <th>233</th>\n",
       "      <td>Everton</td>\n",
       "      <td>9</td>\n",
       "      <td>12</td>\n",
       "      <td>17</td>\n",
       "      <td>39</td>\n",
       "    </tr>\n",
       "    <tr>\n",
       "      <th>234</th>\n",
       "      <td>Fulham</td>\n",
       "      <td>14</td>\n",
       "      <td>10</td>\n",
       "      <td>14</td>\n",
       "      <td>52</td>\n",
       "    </tr>\n",
       "    <tr>\n",
       "      <th>235</th>\n",
       "      <td>Leeds United</td>\n",
       "      <td>8</td>\n",
       "      <td>9</td>\n",
       "      <td>21</td>\n",
       "      <td>33</td>\n",
       "    </tr>\n",
       "    <tr>\n",
       "      <th>236</th>\n",
       "      <td>Leicester City</td>\n",
       "      <td>6</td>\n",
       "      <td>15</td>\n",
       "      <td>17</td>\n",
       "      <td>33</td>\n",
       "    </tr>\n",
       "    <tr>\n",
       "      <th>237</th>\n",
       "      <td>Liverpool</td>\n",
       "      <td>16</td>\n",
       "      <td>12</td>\n",
       "      <td>10</td>\n",
       "      <td>60</td>\n",
       "    </tr>\n",
       "    <tr>\n",
       "      <th>238</th>\n",
       "      <td>Manchester City</td>\n",
       "      <td>9</td>\n",
       "      <td>14</td>\n",
       "      <td>15</td>\n",
       "      <td>41</td>\n",
       "    </tr>\n",
       "    <tr>\n",
       "      <th>239</th>\n",
       "      <td>Manchester United</td>\n",
       "      <td>23</td>\n",
       "      <td>6</td>\n",
       "      <td>9</td>\n",
       "      <td>75</td>\n",
       "    </tr>\n",
       "    <tr>\n",
       "      <th>240</th>\n",
       "      <td>Middlesbrough</td>\n",
       "      <td>13</td>\n",
       "      <td>9</td>\n",
       "      <td>16</td>\n",
       "      <td>48</td>\n",
       "    </tr>\n",
       "    <tr>\n",
       "      <th>241</th>\n",
       "      <td>Newcastle United</td>\n",
       "      <td>13</td>\n",
       "      <td>17</td>\n",
       "      <td>8</td>\n",
       "      <td>56</td>\n",
       "    </tr>\n",
       "    <tr>\n",
       "      <th>242</th>\n",
       "      <td>Portsmouth</td>\n",
       "      <td>12</td>\n",
       "      <td>9</td>\n",
       "      <td>17</td>\n",
       "      <td>45</td>\n",
       "    </tr>\n",
       "    <tr>\n",
       "      <th>243</th>\n",
       "      <td>Southampton</td>\n",
       "      <td>12</td>\n",
       "      <td>11</td>\n",
       "      <td>15</td>\n",
       "      <td>47</td>\n",
       "    </tr>\n",
       "    <tr>\n",
       "      <th>244</th>\n",
       "      <td>Tottenham Hotspur</td>\n",
       "      <td>13</td>\n",
       "      <td>6</td>\n",
       "      <td>19</td>\n",
       "      <td>45</td>\n",
       "    </tr>\n",
       "    <tr>\n",
       "      <th>245</th>\n",
       "      <td>Wolverhampton Wanderers</td>\n",
       "      <td>7</td>\n",
       "      <td>12</td>\n",
       "      <td>19</td>\n",
       "      <td>33</td>\n",
       "    </tr>\n",
       "  </tbody>\n",
       "</table>\n",
       "</div>"
      ],
      "text/plain": [
       "                   club_name  games_won  games_drawn  games_lost  points_total\n",
       "226                  Arsenal         26           12           0            90\n",
       "227              Aston Villa         15           11          12            56\n",
       "228          Birmingham City         12           14          12            50\n",
       "229         Blackburn Rovers         12            8          18            44\n",
       "230         Bolton Wanderers         14           11          13            53\n",
       "231        Charlton Athletic         14           11          13            53\n",
       "232                  Chelsea         24            7           7            79\n",
       "233                  Everton          9           12          17            39\n",
       "234                   Fulham         14           10          14            52\n",
       "235             Leeds United          8            9          21            33\n",
       "236           Leicester City          6           15          17            33\n",
       "237                Liverpool         16           12          10            60\n",
       "238          Manchester City          9           14          15            41\n",
       "239        Manchester United         23            6           9            75\n",
       "240            Middlesbrough         13            9          16            48\n",
       "241         Newcastle United         13           17           8            56\n",
       "242               Portsmouth         12            9          17            45\n",
       "243              Southampton         12           11          15            47\n",
       "244        Tottenham Hotspur         13            6          19            45\n",
       "245  Wolverhampton Wanderers          7           12          19            33"
      ]
     },
     "execution_count": 10,
     "metadata": {},
     "output_type": "execute_result"
    }
   ],
   "source": [
    "df_0304_slim"
   ]
  },
  {
   "cell_type": "markdown",
   "id": "fd5de818-2958-448b-a465-31e20f13da1b",
   "metadata": {},
   "source": [
    "## Get a unique list of all the clubs who have been in the premier league for every season in the dataset\n",
    "\n",
    "- We need to select the club name from the \"club_name\" column and then get a unique list of the club names.\n",
    "- How many clubs have spent at least one season in the EPL?\n",
    "    - How many clubs have been in the PL for every season in the dataset?\n",
    "    - How many clubs have spent just one season in the PL?\n",
    "    \n",
    " "
   ]
  },
  {
   "cell_type": "code",
   "execution_count": 11,
   "id": "539b8bac-30b9-46e0-a78a-068177b809a1",
   "metadata": {},
   "outputs": [],
   "source": [
    "df_club_names_uniq = epl_table[\"club_name\"].unique()"
   ]
  },
  {
   "cell_type": "code",
   "execution_count": 12,
   "id": "1ccf5adf-5281-4aac-be15-49f9b93eb36f",
   "metadata": {},
   "outputs": [
    {
     "data": {
      "text/plain": [
       "array(['Arsenal', 'Aston Villa', 'Blackburn Rovers', 'Chelsea',\n",
       "       'Coventry City', 'Crystal Palace', 'Everton', 'Ipswich Town',\n",
       "       'Leeds United', 'Liverpool', 'Manchester City',\n",
       "       'Manchester United', 'Middlesbrough', 'Norwich City',\n",
       "       'Nottingham Forest', 'Oldham Athletic', 'Queens Park Rangers',\n",
       "       'Sheffield United', 'Sheffield Wednesday', 'Southampton',\n",
       "       'Tottenham Hotspur', 'Wimbledon', 'Newcastle United',\n",
       "       'Swindon Town', 'West Ham United', 'Leicester City',\n",
       "       'Bolton Wanderers', 'Derby County', 'Sunderland', 'Barnsley',\n",
       "       'Charlton Athletic', 'Bradford City', 'Watford', 'Fulham',\n",
       "       'Birmingham City', 'West Bromwich Albion', 'Portsmouth',\n",
       "       'Wolverhampton Wanderers', 'Wigan Athletic', 'Reading',\n",
       "       'Hull City', 'Stoke City', 'Burnley', 'Blackpool', 'Swansea City',\n",
       "       'Cardiff City', 'Bournemouth', 'Brighton & Hove Albion',\n",
       "       'Huddersfield Town', 'Brentford'], dtype=object)"
      ]
     },
     "execution_count": 12,
     "metadata": {},
     "output_type": "execute_result"
    }
   ],
   "source": [
    "df_club_names_uniq"
   ]
  },
  {
   "cell_type": "code",
   "execution_count": 13,
   "id": "ae6c3a2f-fc31-47a7-853b-e734a3cc4670",
   "metadata": {},
   "outputs": [
    {
     "data": {
      "text/plain": [
       "numpy.ndarray"
      ]
     },
     "execution_count": 13,
     "metadata": {},
     "output_type": "execute_result"
    }
   ],
   "source": [
    "type(df_club_names_uniq)"
   ]
  },
  {
   "cell_type": "code",
   "execution_count": 14,
   "id": "70656e4d-8f60-4c7e-85c1-03b2883d9160",
   "metadata": {},
   "outputs": [
    {
     "data": {
      "text/plain": [
       "50"
      ]
     },
     "execution_count": 14,
     "metadata": {},
     "output_type": "execute_result"
    }
   ],
   "source": [
    "len(df_club_names_uniq)"
   ]
  },
  {
   "cell_type": "code",
   "execution_count": 15,
   "id": "48107aee-62a2-46cd-8f97-1de5da542705",
   "metadata": {},
   "outputs": [
    {
     "name": "stdout",
     "output_type": "stream",
     "text": [
      "30\n"
     ]
    }
   ],
   "source": [
    "# The total number of seasons in the dataset\n",
    "# How many unique seasons\n",
    "n_seasons = len(epl_table[\"season\"].unique())\n",
    "print(n_seasons)"
   ]
  },
  {
   "cell_type": "code",
   "execution_count": 16,
   "id": "1312b848-d931-419e-a1ed-c525e166011e",
   "metadata": {},
   "outputs": [
    {
     "data": {
      "text/plain": [
       "club_name\n",
       "Arsenal                    30\n",
       "Chelsea                    30\n",
       "Tottenham Hotspur          30\n",
       "Manchester United          30\n",
       "Everton                    30\n",
       "Liverpool                  30\n",
       "Newcastle United           27\n",
       "Aston Villa                27\n",
       "West Ham United            26\n",
       "Manchester City            25\n",
       "Southampton                23\n",
       "Blackburn Rovers           18\n",
       "Sunderland                 16\n",
       "Leicester City             16\n",
       "Middlesbrough              15\n",
       "Fulham                     15\n",
       "Leeds United               14\n",
       "West Bromwich Albion       13\n",
       "Bolton Wanderers           13\n",
       "Crystal Palace             13\n",
       "Stoke City                 10\n",
       "Norwich City               10\n",
       "Coventry City               9\n",
       "Wolverhampton Wanderers     8\n",
       "Wimbledon                   8\n",
       "Wigan Athletic              8\n",
       "Watford                     8\n",
       "Charlton Athletic           8\n",
       "Burnley                     8\n",
       "Sheffield Wednesday         8\n",
       "Portsmouth                  7\n",
       "Swansea City                7\n",
       "Derby County                7\n",
       "Birmingham City             7\n",
       "Queens Park Rangers         7\n",
       "Sheffield United            5\n",
       "Nottingham Forest           5\n",
       "Bournemouth                 5\n",
       "Brighton & Hove Albion      5\n",
       "Ipswich Town                5\n",
       "Hull City                   5\n",
       "Reading                     3\n",
       "Cardiff City                2\n",
       "Huddersfield Town           2\n",
       "Bradford City               2\n",
       "Oldham Athletic             2\n",
       "Swindon Town                1\n",
       "Barnsley                    1\n",
       "Blackpool                   1\n",
       "Brentford                   1\n",
       "Name: season, dtype: int64"
      ]
     },
     "execution_count": 16,
     "metadata": {},
     "output_type": "execute_result"
    }
   ],
   "source": [
    "epl_table.groupby([\"club_name\"])[\"season\"].count().sort_values(ascending=False)"
   ]
  },
  {
   "cell_type": "markdown",
   "id": "75c5793b-7df8-4b43-bc39-11a3f9c673cf",
   "metadata": {},
   "source": [
    "## Determine which teams were relegated and which were promoted between two consecutive seasons\n",
    "\n",
    "- We can use ython's set type to do this.\n",
    "- Think of another way to do it!\n",
    "- Which teams were relegated in season 2013-2014?"
   ]
  },
  {
   "cell_type": "code",
   "execution_count": 17,
   "id": "ffe68ea9-7792-4026-bc10-2b484fb254e7",
   "metadata": {},
   "outputs": [],
   "source": [
    "clubs_1314 = set(epl_table[epl_table[\"season\"] == \"2013-2014\"][\"club_name\"])\n",
    "clubs_1415 = set(epl_table[epl_table[\"season\"] == \"2014-2015\"][\"club_name\"])\n",
    "relegated = clubs_1314 - clubs_1415"
   ]
  },
  {
   "cell_type": "code",
   "execution_count": 18,
   "id": "5d4901ec-adcd-4c07-b11d-17091ef23c67",
   "metadata": {},
   "outputs": [
    {
     "name": "stdout",
     "output_type": "stream",
     "text": [
      "{'Norwich City', 'Fulham', 'Cardiff City'}\n"
     ]
    }
   ],
   "source": [
    "print(relegated)"
   ]
  },
  {
   "cell_type": "markdown",
   "id": "91a17cd4-ffc8-4e02-be60-8b4c0f3cc0a8",
   "metadata": {},
   "source": [
    " Working out which ones were promoted is as simple as switching the operands in the the expression that generated the relegated clubs."
   ]
  },
  {
   "cell_type": "code",
   "execution_count": 19,
   "id": "12afe96e-22c5-473e-a151-29972bf14650",
   "metadata": {},
   "outputs": [],
   "source": [
    "promoted = clubs_1415 - clubs_1314"
   ]
  },
  {
   "cell_type": "code",
   "execution_count": 20,
   "id": "4a69df24-1df6-40f6-9750-14fa71de02a1",
   "metadata": {},
   "outputs": [
    {
     "data": {
      "text/plain": [
       "{'Burnley', 'Leicester City', 'Queens Park Rangers'}"
      ]
     },
     "execution_count": 20,
     "metadata": {},
     "output_type": "execute_result"
    }
   ],
   "source": [
    "promoted"
   ]
  },
  {
   "cell_type": "code",
   "execution_count": null,
   "id": "e5d87133-cbdf-4190-a24e-e6743112c8f2",
   "metadata": {},
   "outputs": [],
   "source": []
  }
 ],
 "metadata": {
  "kernelspec": {
   "display_name": "myenv",
   "language": "python",
   "name": "myenv"
  },
  "language_info": {
   "codemirror_mode": {
    "name": "ipython",
    "version": 3
   },
   "file_extension": ".py",
   "mimetype": "text/x-python",
   "name": "python",
   "nbconvert_exporter": "python",
   "pygments_lexer": "ipython3",
   "version": "3.9.7"
  }
 },
 "nbformat": 4,
 "nbformat_minor": 5
}
