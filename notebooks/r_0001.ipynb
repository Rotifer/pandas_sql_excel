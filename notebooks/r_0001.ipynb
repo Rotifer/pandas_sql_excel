{
 "cells": [
  {
   "cell_type": "code",
   "execution_count": 1,
   "id": "4072150b-fbe5-472b-ad36-a308c4b90a8e",
   "metadata": {},
   "outputs": [
    {
     "name": "stdout",
     "output_type": "stream",
     "text": [
      "[1] TRUE\n"
     ]
    }
   ],
   "source": [
    "data_filepath <- \"./data/prem_league_final_tables.tsv\" \n",
    "print(file.exists(data_filepath))"
   ]
  },
  {
   "cell_type": "code",
   "execution_count": 2,
   "id": "53f8d55f-cea9-4d57-8269-8aa7279cabd1",
   "metadata": {},
   "outputs": [
    {
     "name": "stderr",
     "output_type": "stream",
     "text": [
      "── \u001b[1mAttaching packages\u001b[22m ─────────────────────────────────────── tidyverse 1.3.2 ──\n",
      "\u001b[32m✔\u001b[39m \u001b[34mggplot2\u001b[39m 3.3.6     \u001b[32m✔\u001b[39m \u001b[34mpurrr  \u001b[39m 0.3.4\n",
      "\u001b[32m✔\u001b[39m \u001b[34mtibble \u001b[39m 3.1.8     \u001b[32m✔\u001b[39m \u001b[34mdplyr  \u001b[39m 1.0.9\n",
      "\u001b[32m✔\u001b[39m \u001b[34mtidyr  \u001b[39m 1.2.0     \u001b[32m✔\u001b[39m \u001b[34mstringr\u001b[39m 1.4.0\n",
      "\u001b[32m✔\u001b[39m \u001b[34mreadr  \u001b[39m 2.1.2     \u001b[32m✔\u001b[39m \u001b[34mforcats\u001b[39m 0.5.1\n",
      "── \u001b[1mConflicts\u001b[22m ────────────────────────────────────────── tidyverse_conflicts() ──\n",
      "\u001b[31m✖\u001b[39m \u001b[34mdplyr\u001b[39m::\u001b[32mfilter()\u001b[39m masks \u001b[34mstats\u001b[39m::filter()\n",
      "\u001b[31m✖\u001b[39m \u001b[34mdplyr\u001b[39m::\u001b[32mlag()\u001b[39m    masks \u001b[34mstats\u001b[39m::lag()\n"
     ]
    }
   ],
   "source": [
    "library(tidyverse)"
   ]
  },
  {
   "cell_type": "code",
   "execution_count": 3,
   "id": "eb78f0a6-9698-46e8-876a-e5e46c9e7c7a",
   "metadata": {},
   "outputs": [],
   "source": [
    "prem_league_tb <- readr::read_delim(data_filepath, delim=\"\\t\", show_col_types = FALSE)"
   ]
  },
  {
   "cell_type": "code",
   "execution_count": 4,
   "id": "601f50ac-b3c9-4dbc-ab94-75620565bba3",
   "metadata": {},
   "outputs": [
    {
     "name": "stdout",
     "output_type": "stream",
     "text": [
      "Rows: 606\n",
      "Columns: 9\n",
      "$ season          \u001b[3m\u001b[90m<chr>\u001b[39m\u001b[23m \"1992-1993\", \"1992-1993\", \"1992-1993\", \"1992-1993\", \"1…\n",
      "$ club_name       \u001b[3m\u001b[90m<chr>\u001b[39m\u001b[23m \"Arsenal\", \"Aston Villa\", \"Blackburn Rovers\", \"Chelsea…\n",
      "$ games_won       \u001b[3m\u001b[90m<dbl>\u001b[39m\u001b[23m 15, 21, 20, 14, 13, 11, 15, 12, 12, 16, 15, 24, 11, 21…\n",
      "$ games_drawn     \u001b[3m\u001b[90m<dbl>\u001b[39m\u001b[23m 11, 11, 11, 14, 13, 16, 8, 16, 15, 11, 12, 12, 11, 9, …\n",
      "$ games_lost      \u001b[3m\u001b[90m<dbl>\u001b[39m\u001b[23m 16, 10, 11, 14, 16, 15, 19, 14, 15, 15, 15, 6, 20, 12,…\n",
      "$ goals_scored    \u001b[3m\u001b[90m<dbl>\u001b[39m\u001b[23m 40, 57, 68, 51, 52, 48, 53, 50, 57, 62, 56, 67, 54, 61…\n",
      "$ goals_conceded  \u001b[3m\u001b[90m<dbl>\u001b[39m\u001b[23m 38, 40, 46, 54, 57, 61, 55, 55, 62, 55, 51, 31, 75, 65…\n",
      "$ goal_difference \u001b[3m\u001b[90m<dbl>\u001b[39m\u001b[23m 2, 17, 22, -3, -5, -13, -2, -5, -5, 7, 5, 36, -21, -4,…\n",
      "$ points_total    \u001b[3m\u001b[90m<dbl>\u001b[39m\u001b[23m 56, 74, 71, 56, 52, 49, 53, 52, 51, 59, 57, 84, 44, 72…\n"
     ]
    }
   ],
   "source": [
    "dplyr::glimpse(prem_league_tb)"
   ]
  },
  {
   "cell_type": "code",
   "execution_count": 5,
   "id": "9769fdb0-0cd8-4324-b976-7c228ff7efe6",
   "metadata": {},
   "outputs": [
    {
     "data": {
      "text/html": [
       "606"
      ],
      "text/latex": [
       "606"
      ],
      "text/markdown": [
       "606"
      ],
      "text/plain": [
       "[1] 606"
      ]
     },
     "metadata": {},
     "output_type": "display_data"
    }
   ],
   "source": [
    "nrow(prem_league_tb)"
   ]
  },
  {
   "cell_type": "code",
   "execution_count": null,
   "id": "1a82a7bc-3712-4faa-b9bd-dae4558db94a",
   "metadata": {},
   "outputs": [],
   "source": []
  }
 ],
 "metadata": {
  "kernelspec": {
   "display_name": "R",
   "language": "R",
   "name": "ir"
  },
  "language_info": {
   "codemirror_mode": "r",
   "file_extension": ".r",
   "mimetype": "text/x-r-source",
   "name": "R",
   "pygments_lexer": "r",
   "version": "4.2.1"
  }
 },
 "nbformat": 4,
 "nbformat_minor": 5
}
