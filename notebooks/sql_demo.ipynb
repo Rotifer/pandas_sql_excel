{
 "cells": [
  {
   "cell_type": "code",
   "execution_count": 2,
   "id": "b296388b-f89a-4584-9023-3d90c6e57f38",
   "metadata": {},
   "outputs": [
    {
     "name": "stdout",
     "output_type": "stream",
     "text": [
      "Requirement already satisfied: ipython-sql in /Users/mfm45656/dash_book/.venv/lib/python3.9/site-packages (0.4.1)\n",
      "Requirement already satisfied: sqlalchemy>=0.6.7 in /Users/mfm45656/dash_book/.venv/lib/python3.9/site-packages (from ipython-sql) (1.4.37)\n",
      "Requirement already satisfied: sqlparse in /Users/mfm45656/dash_book/.venv/lib/python3.9/site-packages (from ipython-sql) (0.4.2)\n",
      "Requirement already satisfied: ipython>=1.0 in /Users/mfm45656/dash_book/.venv/lib/python3.9/site-packages (from ipython-sql) (8.4.0)\n",
      "Requirement already satisfied: prettytable<1 in /Users/mfm45656/dash_book/.venv/lib/python3.9/site-packages (from ipython-sql) (0.7.2)\n",
      "Requirement already satisfied: six in /Users/mfm45656/dash_book/.venv/lib/python3.9/site-packages (from ipython-sql) (1.16.0)\n",
      "Requirement already satisfied: ipython-genutils>=0.1.0 in /Users/mfm45656/dash_book/.venv/lib/python3.9/site-packages (from ipython-sql) (0.2.0)\n",
      "Requirement already satisfied: jedi>=0.16 in /Users/mfm45656/dash_book/.venv/lib/python3.9/site-packages (from ipython>=1.0->ipython-sql) (0.18.1)\n",
      "Requirement already satisfied: stack-data in /Users/mfm45656/dash_book/.venv/lib/python3.9/site-packages (from ipython>=1.0->ipython-sql) (0.3.0)\n",
      "Requirement already satisfied: decorator in /Users/mfm45656/dash_book/.venv/lib/python3.9/site-packages (from ipython>=1.0->ipython-sql) (5.1.1)\n",
      "Requirement already satisfied: setuptools>=18.5 in /Users/mfm45656/dash_book/.venv/lib/python3.9/site-packages (from ipython>=1.0->ipython-sql) (57.4.0)\n",
      "Requirement already satisfied: pickleshare in /Users/mfm45656/dash_book/.venv/lib/python3.9/site-packages (from ipython>=1.0->ipython-sql) (0.7.5)\n",
      "Requirement already satisfied: matplotlib-inline in /Users/mfm45656/dash_book/.venv/lib/python3.9/site-packages (from ipython>=1.0->ipython-sql) (0.1.3)\n",
      "Requirement already satisfied: pexpect>4.3 in /Users/mfm45656/dash_book/.venv/lib/python3.9/site-packages (from ipython>=1.0->ipython-sql) (4.8.0)\n",
      "Requirement already satisfied: pygments>=2.4.0 in /Users/mfm45656/dash_book/.venv/lib/python3.9/site-packages (from ipython>=1.0->ipython-sql) (2.12.0)\n",
      "Requirement already satisfied: prompt-toolkit!=3.0.0,!=3.0.1,<3.1.0,>=2.0.0 in /Users/mfm45656/dash_book/.venv/lib/python3.9/site-packages (from ipython>=1.0->ipython-sql) (3.0.29)\n",
      "Requirement already satisfied: backcall in /Users/mfm45656/dash_book/.venv/lib/python3.9/site-packages (from ipython>=1.0->ipython-sql) (0.2.0)\n",
      "Requirement already satisfied: appnope in /Users/mfm45656/dash_book/.venv/lib/python3.9/site-packages (from ipython>=1.0->ipython-sql) (0.1.3)\n",
      "Requirement already satisfied: traitlets>=5 in /Users/mfm45656/dash_book/.venv/lib/python3.9/site-packages (from ipython>=1.0->ipython-sql) (5.3.0)\n",
      "Requirement already satisfied: greenlet!=0.4.17 in /Users/mfm45656/dash_book/.venv/lib/python3.9/site-packages (from sqlalchemy>=0.6.7->ipython-sql) (1.1.2)\n",
      "Requirement already satisfied: parso<0.9.0,>=0.8.0 in /Users/mfm45656/dash_book/.venv/lib/python3.9/site-packages (from jedi>=0.16->ipython>=1.0->ipython-sql) (0.8.3)\n",
      "Requirement already satisfied: ptyprocess>=0.5 in /Users/mfm45656/dash_book/.venv/lib/python3.9/site-packages (from pexpect>4.3->ipython>=1.0->ipython-sql) (0.7.0)\n",
      "Requirement already satisfied: wcwidth in /Users/mfm45656/dash_book/.venv/lib/python3.9/site-packages (from prompt-toolkit!=3.0.0,!=3.0.1,<3.1.0,>=2.0.0->ipython>=1.0->ipython-sql) (0.2.5)\n",
      "Requirement already satisfied: asttokens in /Users/mfm45656/dash_book/.venv/lib/python3.9/site-packages (from stack-data->ipython>=1.0->ipython-sql) (2.0.5)\n",
      "Requirement already satisfied: pure-eval in /Users/mfm45656/dash_book/.venv/lib/python3.9/site-packages (from stack-data->ipython>=1.0->ipython-sql) (0.2.2)\n",
      "Requirement already satisfied: executing in /Users/mfm45656/dash_book/.venv/lib/python3.9/site-packages (from stack-data->ipython>=1.0->ipython-sql) (0.8.3)\n"
     ]
    }
   ],
   "source": [
    "!pip install ipython-sql"
   ]
  },
  {
   "cell_type": "code",
   "execution_count": null,
   "id": "ea49f12e-6cfd-42bb-8f56-b4a365c54360",
   "metadata": {},
   "outputs": [],
   "source": []
  }
 ],
 "metadata": {
  "kernelspec": {
   "display_name": "myenv",
   "language": "python",
   "name": "myenv"
  },
  "language_info": {
   "codemirror_mode": {
    "name": "ipython",
    "version": 3
   },
   "file_extension": ".py",
   "mimetype": "text/x-python",
   "name": "python",
   "nbconvert_exporter": "python",
   "pygments_lexer": "ipython3",
   "version": "3.9.7"
  }
 },
 "nbformat": 4,
 "nbformat_minor": 5
}
