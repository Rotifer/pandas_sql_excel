{
 "cells": [
  {
   "cell_type": "code",
   "execution_count": 1,
   "id": "b296388b-f89a-4584-9023-3d90c6e57f38",
   "metadata": {},
   "outputs": [
    {
     "name": "stdout",
     "output_type": "stream",
     "text": [
      "Collecting ipython-sql\n",
      "  Using cached ipython_sql-0.4.1-py3-none-any.whl (21 kB)\n",
      "Collecting prettytable<1\n",
      "  Using cached prettytable-0.7.2.zip (28 kB)\n",
      "  Preparing metadata (setup.py) ... \u001b[?25ldone\n",
      "\u001b[?25hRequirement already satisfied: six in /Users/mfm45656/pandas_sql_excel/.venv/lib/python3.9/site-packages (from ipython-sql) (1.16.0)\n",
      "Requirement already satisfied: ipython>=1.0 in /Users/mfm45656/pandas_sql_excel/.venv/lib/python3.9/site-packages (from ipython-sql) (8.4.0)\n",
      "Collecting sqlparse\n",
      "  Using cached sqlparse-0.4.2-py3-none-any.whl (42 kB)\n",
      "Requirement already satisfied: ipython-genutils>=0.1.0 in /Users/mfm45656/pandas_sql_excel/.venv/lib/python3.9/site-packages (from ipython-sql) (0.2.0)\n",
      "Collecting sqlalchemy>=0.6.7\n",
      "  Using cached SQLAlchemy-1.4.39-cp39-cp39-macosx_10_15_x86_64.whl (1.5 MB)\n",
      "Requirement already satisfied: setuptools>=18.5 in /Users/mfm45656/pandas_sql_excel/.venv/lib/python3.9/site-packages (from ipython>=1.0->ipython-sql) (57.4.0)\n",
      "Requirement already satisfied: appnope in /Users/mfm45656/pandas_sql_excel/.venv/lib/python3.9/site-packages (from ipython>=1.0->ipython-sql) (0.1.3)\n",
      "Requirement already satisfied: prompt-toolkit!=3.0.0,!=3.0.1,<3.1.0,>=2.0.0 in /Users/mfm45656/pandas_sql_excel/.venv/lib/python3.9/site-packages (from ipython>=1.0->ipython-sql) (3.0.30)\n",
      "Requirement already satisfied: traitlets>=5 in /Users/mfm45656/pandas_sql_excel/.venv/lib/python3.9/site-packages (from ipython>=1.0->ipython-sql) (5.3.0)\n",
      "Requirement already satisfied: matplotlib-inline in /Users/mfm45656/pandas_sql_excel/.venv/lib/python3.9/site-packages (from ipython>=1.0->ipython-sql) (0.1.3)\n",
      "Requirement already satisfied: jedi>=0.16 in /Users/mfm45656/pandas_sql_excel/.venv/lib/python3.9/site-packages (from ipython>=1.0->ipython-sql) (0.18.1)\n",
      "Requirement already satisfied: stack-data in /Users/mfm45656/pandas_sql_excel/.venv/lib/python3.9/site-packages (from ipython>=1.0->ipython-sql) (0.3.0)\n",
      "Requirement already satisfied: pexpect>4.3 in /Users/mfm45656/pandas_sql_excel/.venv/lib/python3.9/site-packages (from ipython>=1.0->ipython-sql) (4.8.0)\n",
      "Requirement already satisfied: pygments>=2.4.0 in /Users/mfm45656/pandas_sql_excel/.venv/lib/python3.9/site-packages (from ipython>=1.0->ipython-sql) (2.12.0)\n",
      "Requirement already satisfied: backcall in /Users/mfm45656/pandas_sql_excel/.venv/lib/python3.9/site-packages (from ipython>=1.0->ipython-sql) (0.2.0)\n",
      "Requirement already satisfied: decorator in /Users/mfm45656/pandas_sql_excel/.venv/lib/python3.9/site-packages (from ipython>=1.0->ipython-sql) (5.1.1)\n",
      "Requirement already satisfied: pickleshare in /Users/mfm45656/pandas_sql_excel/.venv/lib/python3.9/site-packages (from ipython>=1.0->ipython-sql) (0.7.5)\n",
      "Collecting greenlet!=0.4.17\n",
      "  Using cached greenlet-1.1.2-cp39-cp39-macosx_10_14_x86_64.whl (92 kB)\n",
      "Requirement already satisfied: parso<0.9.0,>=0.8.0 in /Users/mfm45656/pandas_sql_excel/.venv/lib/python3.9/site-packages (from jedi>=0.16->ipython>=1.0->ipython-sql) (0.8.3)\n",
      "Requirement already satisfied: ptyprocess>=0.5 in /Users/mfm45656/pandas_sql_excel/.venv/lib/python3.9/site-packages (from pexpect>4.3->ipython>=1.0->ipython-sql) (0.7.0)\n",
      "Requirement already satisfied: wcwidth in /Users/mfm45656/pandas_sql_excel/.venv/lib/python3.9/site-packages (from prompt-toolkit!=3.0.0,!=3.0.1,<3.1.0,>=2.0.0->ipython>=1.0->ipython-sql) (0.2.5)\n",
      "Requirement already satisfied: pure-eval in /Users/mfm45656/pandas_sql_excel/.venv/lib/python3.9/site-packages (from stack-data->ipython>=1.0->ipython-sql) (0.2.2)\n",
      "Requirement already satisfied: asttokens in /Users/mfm45656/pandas_sql_excel/.venv/lib/python3.9/site-packages (from stack-data->ipython>=1.0->ipython-sql) (2.0.5)\n",
      "Requirement already satisfied: executing in /Users/mfm45656/pandas_sql_excel/.venv/lib/python3.9/site-packages (from stack-data->ipython>=1.0->ipython-sql) (0.8.3)\n",
      "Using legacy 'setup.py install' for prettytable, since package 'wheel' is not installed.\n",
      "Installing collected packages: prettytable, sqlparse, greenlet, sqlalchemy, ipython-sql\n",
      "  Running setup.py install for prettytable ... \u001b[?25ldone\n",
      "\u001b[?25hSuccessfully installed greenlet-1.1.2 ipython-sql-0.4.1 prettytable-0.7.2 sqlalchemy-1.4.39 sqlparse-0.4.2\n"
     ]
    }
   ],
   "source": [
    "!pip install ipython-sql"
   ]
  },
  {
   "cell_type": "code",
   "execution_count": 2,
   "id": "ea49f12e-6cfd-42bb-8f56-b4a365c54360",
   "metadata": {},
   "outputs": [],
   "source": [
    "%load_ext sql"
   ]
  },
  {
   "cell_type": "code",
   "execution_count": 3,
   "id": "1fab8d9c-0d39-4191-8237-f43cb3e78428",
   "metadata": {},
   "outputs": [],
   "source": [
    "%sql sqlite://"
   ]
  },
  {
   "cell_type": "code",
   "execution_count": 5,
   "id": "9bece8b7-5803-48e3-81c5-04af45ed7e94",
   "metadata": {},
   "outputs": [
    {
     "name": "stdout",
     "output_type": "stream",
     "text": [
      " * sqlite://\n",
      "Done.\n"
     ]
    },
    {
     "data": {
      "text/plain": [
       "[]"
      ]
     },
     "execution_count": 5,
     "metadata": {},
     "output_type": "execute_result"
    }
   ],
   "source": [
    "%%sql \n",
    "CREATE TABLE test(id INTEGER PRIMARY KEY, col1 TEXT)"
   ]
  },
  {
   "cell_type": "code",
   "execution_count": 6,
   "id": "8801cdf7-a5e9-4740-b215-662b64b70f6d",
   "metadata": {},
   "outputs": [
    {
     "name": "stdout",
     "output_type": "stream",
     "text": [
      " * sqlite://\n",
      "3 rows affected.\n"
     ]
    },
    {
     "data": {
      "text/plain": [
       "[]"
      ]
     },
     "execution_count": 6,
     "metadata": {},
     "output_type": "execute_result"
    }
   ],
   "source": [
    "%%sql INSERT INTO test(col1) VALUES\n",
    "('cat'),\n",
    "('rat'),\n",
    "('hat');"
   ]
  },
  {
   "cell_type": "code",
   "execution_count": 7,
   "id": "5e20af0c-9b99-4b55-b6c2-0214e77141ff",
   "metadata": {},
   "outputs": [
    {
     "name": "stdout",
     "output_type": "stream",
     "text": [
      " * sqlite://\n",
      "Done.\n"
     ]
    },
    {
     "data": {
      "text/html": [
       "<table>\n",
       "    <tr>\n",
       "        <th>id</th>\n",
       "        <th>col1</th>\n",
       "    </tr>\n",
       "    <tr>\n",
       "        <td>1</td>\n",
       "        <td>cat</td>\n",
       "    </tr>\n",
       "    <tr>\n",
       "        <td>2</td>\n",
       "        <td>rat</td>\n",
       "    </tr>\n",
       "    <tr>\n",
       "        <td>3</td>\n",
       "        <td>hat</td>\n",
       "    </tr>\n",
       "</table>"
      ],
      "text/plain": [
       "[(1, 'cat'), (2, 'rat'), (3, 'hat')]"
      ]
     },
     "execution_count": 7,
     "metadata": {},
     "output_type": "execute_result"
    }
   ],
   "source": [
    "%%sql\n",
    "SELECT * FROM test;"
   ]
  },
  {
   "cell_type": "code",
   "execution_count": null,
   "id": "91769999-40c8-45f3-816a-e787d883705b",
   "metadata": {},
   "outputs": [],
   "source": []
  }
 ],
 "metadata": {
  "kernelspec": {
   "display_name": "myenv",
   "language": "python",
   "name": "myenv"
  },
  "language_info": {
   "codemirror_mode": {
    "name": "ipython",
    "version": 3
   },
   "file_extension": ".py",
   "mimetype": "text/x-python",
   "name": "python",
   "nbconvert_exporter": "python",
   "pygments_lexer": "ipython3",
   "version": "3.9.7"
  }
 },
 "nbformat": 4,
 "nbformat_minor": 5
}
