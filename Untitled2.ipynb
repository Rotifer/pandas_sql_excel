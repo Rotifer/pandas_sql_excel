{
 "cells": [
  {
   "cell_type": "code",
   "execution_count": 1,
   "id": "bc5b3295-ddb1-4188-9b81-ac2b6cd65241",
   "metadata": {},
   "outputs": [],
   "source": [
    "import yaml"
   ]
  },
  {
   "cell_type": "code",
   "execution_count": 2,
   "id": "7f4c2c33-0700-4f51-9e1c-e5545aac2b7c",
   "metadata": {},
   "outputs": [],
   "source": [
    "def convert_columns_to_ds(columns_filepath):\n",
    "    \"\"\"\"\"\"\n",
    "    with open(columns_filepath) as fh:\n",
    "        lines = fh.read().split(\"\\n\")\n",
    "    column_lines = lines[1:] # discard header line\n",
    "    columns = {}\n",
    "    for column_line in column_lines:\n",
    "        elements = column_line.strip().split(\"\\t\")\n",
    "        column_details = {}\n",
    "        try:\n",
    "            column_name = elements[0].lower()\n",
    "            column_details[\"ordinal_position\"] = int(elements[1])\n",
    "            column_details[\"datatype\"] = elements[2]\n",
    "            column_details[\"nullable\"] = False if elements[3] == \"FALSE\" else True\n",
    "            column_details[\"comment\"] = elements[4]\n",
    "            columns[column_name] = column_details\n",
    "        except Exception as ex:\n",
    "            print(column_line)\n",
    "    return columns"
   ]
  },
  {
   "cell_type": "code",
   "execution_count": 4,
   "id": "66fc24ad-7b38-42b9-947f-ec477f000a75",
   "metadata": {},
   "outputs": [
    {
     "name": "stdout",
     "output_type": "stream",
     "text": [
      "TRUE if rare_variant_region_results.region_type = 'LoF' and rare_variant_region_results.pval < 1e-4\"\t\t\n",
      "TRUE if (rare_variant_region_results.region_type = 'Missense' or region_type = 'DeleteriousMissense' and rare_variant_region_results.pval < 1e-4\"\t\t\n",
      "FROM THE CORRESPONDING analysis/gene_symbol/maf_threshold that gives rvr_genetest_plof=TRUE above\"\t\t\n",
      "where rare_variant_region_results.analysis = rare_variant_region_analyses.analysis\"\t\t\n",
      "TRUE if rare_variant_region_results.region_type = 'LoF' and rare_variant_region_results.pval < 1e-7\"\t\t\n",
      "\n",
      "{'rvr_genetest_plof': {'ordinal_position': 0, 'datatype': 'BOOLEAN', 'nullable': False, 'comment': '\"if LoF region test has p<1e-4 Criteria: COLLAPSE across maf_threshold for each analysis/gene_symbol pair:'}, 'rvr_genetest_other': {'ordinal_position': 1, 'datatype': 'BOOLEAN', 'nullable': False, 'comment': '\"if any other region test (deleterious missense, missense) has p<1e-4 Criteria: COLLAPSE across maf_threshold for each analysis/gene_symbol pair:'}, 'rvr_genetest_plof_direction': {'ordinal_position': 2, 'datatype': 'STRING', 'nullable': False, 'comment': '\"\"\"+\"\" if gene burden is an antagonist and \"\"-\"\" if gene burden is an agonist Criteria: \"\"+\"\" if rare_variant_region_results.beta < 0, \"\"-\"\" if rare_variant_region_results.beta > 0'}, 'rvr_analysis': {'ordinal_position': 3, 'datatype': 'STRING', 'nullable': False, 'comment': 'analysis ID of the rvr test Criteria: rare_variant_region_results.analysis'}, 'analysis': {'ordinal_position': 4, 'datatype': 'STRING', 'nullable': False, 'comment': '\"analysis ID of the corresponding gwas Criteria: rare_variant_region_analyses.exact_gwas_match'}, 'current_hgnc': {'ordinal_position': 5, 'datatype': 'STRING', 'nullable': False, 'comment': 'gene name Criteria: rare_variant_region_results.gene_symbol'}, 'rvr_new_evidence': {'ordinal_position': 6, 'datatype': 'BOOLEAN', 'nullable': False, 'comment': '\"True if the pLoF gene test has p<1e-7 Criteria: COLLAPSE across maf_threshold for each analysis/gene_symbol pair:'}}\n"
     ]
    }
   ],
   "source": [
    "table_name = \"rare_variant_region_results_sig\"\n",
    "columns_filepath = \"./notebooks/rare_variant_region_results_sig_table.tsv\"\n",
    "columns = convert_columns_to_ds(columns_filepath)\n",
    "print(columns)"
   ]
  },
  {
   "cell_type": "code",
   "execution_count": 5,
   "id": "50c18e0e-88e9-439f-84c1-12e43a8b8c3b",
   "metadata": {},
   "outputs": [],
   "source": [
    "with open(\"notebooks/model_template.yaml\", \"r\") as fh_yaml:\n",
    "    model_template_ds = yaml.safe_load(fh_yaml)"
   ]
  },
  {
   "cell_type": "code",
   "execution_count": 6,
   "id": "86d4b354-4117-4e99-9b85-c5f4886abe6e",
   "metadata": {},
   "outputs": [],
   "source": [
    "def add_model_section(model_ds, databases, description, name, release_date, version):\n",
    "    \"\"\"Insert the model section into the template data structure.\"\"\"\n",
    "    model_ds[\"model\"][\"databases\"] = databases\n",
    "    model_ds[\"model\"][\"description\"] = description\n",
    "    model_ds[\"model\"][\"name\"] = name\n",
    "    model_ds[\"model\"][\"release_date\"] = release_date\n",
    "    model_ds[\"model\"][\"version\"] = version"
   ]
  },
  {
   "cell_type": "code",
   "execution_count": 7,
   "id": "61b587da-2364-4d36-8f8f-d4ab2127700f",
   "metadata": {},
   "outputs": [],
   "source": [
    "def add_table_columns(model_ds, table_name, columns):\n",
    "    \"\"\"\"\"\"\n",
    "    if \"TABLE_NAME\" in model_ds[\"tables\"]:\n",
    "        del model_ds[\"tables\"][\"TABLE_NAME\"]\n",
    "    model_ds[\"tables\"][table_name] = {}\n",
    "    model_ds[\"tables\"][table_name][\"columns\"] = columns"
   ]
  },
  {
   "cell_type": "code",
   "execution_count": 8,
   "id": "1c72bf61-fb1c-48ab-b1d9-a93e774684d3",
   "metadata": {},
   "outputs": [],
   "source": [
    "def add_table_meta(model_ds, table_name, description, format_=\"parquet\", table_type=\"table\"):\n",
    "    \"\"\"\"\"\"\n",
    "    model_ds[\"tables\"][table_name][\"meta\"] = {}\n",
    "    model_ds[\"tables\"][table_name][\"meta\"][\"description\"] = description\n",
    "    model_ds[\"tables\"][table_name][\"meta\"][\"format\"] = format_\n",
    "    model_ds[\"tables\"][table_name][\"meta\"][\"table_type\"] = table_type"
   ]
  },
  {
   "cell_type": "code",
   "execution_count": 9,
   "id": "5d1eaaeb-927c-4e8d-addb-13037bd97451",
   "metadata": {},
   "outputs": [],
   "source": [
    "add_table_columns(model_template_ds, table_name, columns)"
   ]
  },
  {
   "cell_type": "code",
   "execution_count": 10,
   "id": "bbe48a53-5648-4484-bb14-ecea54f05b09",
   "metadata": {},
   "outputs": [],
   "source": [
    "add_table_meta(model_template_ds, table_name, \"This table contains significant rare variant region test results\")"
   ]
  },
  {
   "cell_type": "code",
   "execution_count": 11,
   "id": "de9e5aa6-b6e8-496e-b582-9957ba06007a",
   "metadata": {},
   "outputs": [],
   "source": [
    "with open(\"rare_variant_region_results_sig.yaml\", \"w\") as yaml_file:\n",
    "    yaml.dump(model_template_ds, yaml_file, default_flow_style=False)"
   ]
  },
  {
   "cell_type": "code",
   "execution_count": null,
   "id": "82fddd87-2d53-4aac-8de1-7542600e4cae",
   "metadata": {},
   "outputs": [],
   "source": []
  }
 ],
 "metadata": {
  "kernelspec": {
   "display_name": "myenv",
   "language": "python",
   "name": "myenv"
  },
  "language_info": {
   "codemirror_mode": {
    "name": "ipython",
    "version": 3
   },
   "file_extension": ".py",
   "mimetype": "text/x-python",
   "name": "python",
   "nbconvert_exporter": "python",
   "pygments_lexer": "ipython3",
   "version": "3.9.7"
  }
 },
 "nbformat": 4,
 "nbformat_minor": 5
}
